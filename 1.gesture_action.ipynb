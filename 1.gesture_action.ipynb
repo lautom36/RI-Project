{
 "cells": [
  {
   "cell_type": "code",
   "execution_count": 16,
   "metadata": {},
   "outputs": [],
   "source": [
    "#bgr8 to jpeg format\n",
    "import enum\n",
    "import cv2\n",
    "\n",
    "def bgr8_to_jpeg(value, quality=75):\n",
    "    return bytes(cv2.imencode('.jpg', value)[1])"
   ]
  },
  {
   "cell_type": "code",
   "execution_count": 17,
   "metadata": {},
   "outputs": [],
   "source": [
    "# Import related modules\n",
    "import threading\n",
    "import time\n",
    "from Arm_Lib import Arm_Device\n",
    "\n",
    "\n",
    "# Get DOFBOT object\n",
    "Arm = Arm_Device()\n",
    "time.sleep(.1)"
   ]
  },
  {
   "cell_type": "markdown",
   "metadata": {},
   "source": [
    "# Set up gesture recognition"
   ]
  },
  {
   "cell_type": "code",
   "execution_count": 18,
   "metadata": {},
   "outputs": [],
   "source": [
    "import cv2 \n",
    "import time\n",
    "import demjson\n",
    "import pygame \n",
    "#from aip import AipBodyAnalysis\n",
    "#from aip import AipSpeech\n",
    "from PIL import Image, ImageDraw, ImageFont\n",
    "import numpy\n",
    "import ipywidgets.widgets as widgets\n",
    "\n",
    "\"\"\"hand={'One':'number1','Two':'number2','Three':'number3','Four':'number4',\n",
    "      'Five':'number5', 'Six':'number6','Seven':'number7',\n",
    "      'Eight':'number8','Nine':'number9','Fist':'fist','Ok':'OK',\n",
    "      'Prayer':'prayer','Congratulation':'congratulation','Honour':'honour',\n",
    "      'Heart_single':'heart','Thumb_up':'thumb_up','Thumb_down':'Diss',\n",
    "      'ILY':'i love you','Palm_up':'palm_up','Heart_1':'Heart_1',\n",
    "      'Heart_2':'Heart_1','Heart_3':'Heart_3','Rock':'Rock','Face':'face'}\n",
    "\n",
    "# Using your key and ID\n",
    "# APPID AK SK\n",
    "APP_ID = '18550528'\n",
    "API_KEY = 'K6PWqtiUTKYK1fYaz13O8E3i'\n",
    "SECRET_KEY = 'IDBUII1j6srF1XVNDX32I2WpuwBWczzK'\n",
    "\n",
    "\n",
    "client = AipBodyAnalysis(APP_ID, API_KEY, SECRET_KEY)\n",
    "\"\"\"\n",
    "\n",
    "g_camera = cv2.VideoCapture(0)\n",
    "g_camera.set(3, 640)\n",
    "g_camera.set(4, 480)\n",
    "g_camera.set(5, 30)  #Set frame\n",
    "g_camera.set(cv2.CAP_PROP_FOURCC, cv2.VideoWriter.fourcc('M', 'J', 'P', 'G'))\n",
    "g_camera.set(cv2.CAP_PROP_BRIGHTNESS, 40) #set brightness -64 - 64  0.0\n",
    "g_camera.set(cv2.CAP_PROP_CONTRAST, 50) #set contrast -64 - 64  2.0\n",
    "g_camera.set(cv2.CAP_PROP_EXPOSURE, 156) #set exposure 1.0 - 5000  156.0\n",
    "\n",
    "ret, frame = g_camera.read()\n"
   ]
  },
  {
   "cell_type": "markdown",
   "metadata": {},
   "source": [
    "# Define camera widget"
   ]
  },
  {
   "cell_type": "code",
   "execution_count": 19,
   "metadata": {},
   "outputs": [
    {
     "data": {
      "application/vnd.jupyter.widget-view+json": {
       "model_id": "cbfbfb9139cc47829ce1f488c215e338",
       "version_major": 2,
       "version_minor": 0
      },
      "text/plain": [
       "Image(value=b'', format='jpeg', height='500', width='600')"
      ]
     },
     "metadata": {},
     "output_type": "display_data"
    }
   ],
   "source": [
    "image_widget = widgets.Image(format='jpeg', width=600, height=500)  # Define camera widget\n",
    "display(image_widget)   \n",
    "image_widget.value = bgr8_to_jpeg(frame)"
   ]
  },
  {
   "cell_type": "markdown",
   "metadata": {},
   "source": [
    "# Define image widget"
   ]
  },
  {
   "cell_type": "code",
   "execution_count": 20,
   "metadata": {},
   "outputs": [],
   "source": [
    "def cv2ImgAddText(img, text, left, top, textColor=(0, 255, 0), textSize=20):\n",
    "    if (isinstance(img, numpy.ndarray)):  \n",
    "        img = Image.fromarray(cv2.cvtColor(img, cv2.COLOR_BGR2RGB))\n",
    "   \n",
    "    draw = ImageDraw.Draw(img)\n",
    "    \n",
    "    fontStyle = ImageFont.truetype(\"simhei.ttf\", textSize, encoding=\"utf-8\")\n",
    "    \n",
    "    draw.text((left, top), text, textColor, font=fontStyle)\n",
    "    \n",
    "    return cv2.cvtColor(numpy.asarray(img), cv2.COLOR_RGB2BGR)"
   ]
  },
  {
   "cell_type": "code",
   "execution_count": 21,
   "metadata": {},
   "outputs": [],
   "source": [
    "def get_loc():\n",
    "    prev = [None] * 6\n",
    "    for i in range(len(prev)):\n",
    "        ang = None\n",
    "        while ang is None:\n",
    "            ang = Arm.Arm_serial_servo_read(i+1)\n",
    "        prev[i] = ang\n",
    "    return prev\n",
    "\n",
    "look_at = [90, 164, 18, 0, 90, 90]\n",
    "\n",
    "\"\"\"\n",
    "# Absolute positions\n",
    "p_handshake_1 = [90, 95, 15, 56, 90, 70]\n",
    "p_handshake_2 = [90, 95, 15, 56, 90, 145]\n",
    "p_handshake_3 = [90, 100, 20, 61, 90, 145]\n",
    "p_handshake_4 = [90, 95, 10, 61, 90, 145]\n",
    "p_handshake_5 = [90, 95, 10, 61, 90, 80]\n",
    "\"\"\"\n",
    "# Relative positions\n",
    "p_handshake_1 = [0, 0, 0, 0, 0, 0]  # Starting position - assuming has gotten to hand\n",
    "p_handshake_2 = [0, 0, 0, 0, 0, 55]\n",
    "p_handshake_3 = [0, 5, 5, 5, 0, 0]\n",
    "p_handshake_4 = [0, -5, -10, 0, 0, 0]\n",
    "p_handshake_3_1 = [0, 5, 10, 0, 0, 0]  # Second up shake\n",
    "p_handshake_5 = [0, 0, 0, 0, 0, -45]\n",
    "p_handshake_6 = [0, 0, 5, -5, 0, -10] # Return to start position"
   ]
  },
  {
   "cell_type": "code",
   "execution_count": 22,
   "metadata": {},
   "outputs": [],
   "source": [
    "# Define control DOFBOT function, control No.1-No.5 servo，p=[S1,S2,S3,S4,S5]\n",
    "def arm_move_6(p, s_time = 500):\n",
    "    for i in range(6):\n",
    "        id = i + 1\n",
    "        Arm.Arm_serial_servo_write(id, p[i], s_time)\n",
    "        time.sleep(.01)\n",
    "    time.sleep(s_time/1000)\n",
    "    \n",
    "# arm_move_6 but relative (additive) to current position\n",
    "def move_rel(p, prev, s_time=500):\n",
    "    diff = p[:]\n",
    "    for i in range(len(diff)):\n",
    "        diff[i] = p[i]+prev[i]\n",
    "    # print(f\"Difference vector: {p}\")\n",
    "    # print(f\"Old absolute: {prev}\")\n",
    "    # print(f\"New absolute: {diff}\")\n",
    "    # Move arm to new location\n",
    "    arm_move_6(diff, s_time)\n",
    "    prev = get_loc()\n",
    "    err = [diff[i] - prev[i] for i in len(diff)]\n",
    "    # print(f\"Actual absolute: {prev}\")\n",
    "    # print(f\"Error vector: {err}\")"
   ]
  },
  {
   "cell_type": "code",
   "execution_count": null,
   "metadata": {},
   "outputs": [],
   "source": [
    "def handshake(prev, verbose=False):\n",
    "    print(f\"Starting position: {prev}\")\n",
    "    print(\"Moving to pos 1\")\n",
    "    prev = move_rel(p_handshake_1, prev, 1000) # Extend toward hand (or rather, is at hand)\n",
    "    print(\"Moving to pos 2\")\n",
    "    prev = move_rel(p_handshake_2, prev, 170) # Grasp hand\n",
    "    time.sleep(1)\n",
    "    print(\"Moving to pos 3\")\n",
    "    prev = move_rel(p_handshake_3, prev, 150) # Shake up\n",
    "    print(\"Moving to pos 4\")\n",
    "    prev = move_rel(p_handshake_4, prev, 150) # Shake down\n",
    "    print(\"Moving to pos 3\")\n",
    "    prev = move_rel(p_handshake_3_1, prev, 150) # Shake up\n",
    "    print(\"Moving to pos 4\")\n",
    "    prev = move_rel(p_handshake_4, prev, 150) # Shake down\n",
    "    time.sleep(1/1000)\n",
    "    print(\"Moving to pos 5\")\n",
    "    prev = move_rel(p_handshake_5, prev, 150) # Release hand\n",
    "    time.sleep(1/1000)\n",
    "    print(\"Moving to pos 6\")\n",
    "    prev = move_rel(p_handshake_3, prev, 150) # Return to pos 1 (diff vector = #6)\n",
    "    print(\"Moving to pos home\")\n",
    "    Arm.Arm_serial_servo_write6_array(look_at, 1000)\n",
    "    time.sleep(1)"
   ]
  },
  {
   "cell_type": "code",
   "execution_count": 23,
   "metadata": {},
   "outputs": [],
   "source": [
    "global g_state_arm\n",
    "g_state_arm = 0\n",
    "def ctrl_arm_move(index):\n",
    "    prev = get_loc()\n",
    "    print(f\"Updated location: {prev}\")\n",
    "    if index == \"Handshake\":\n",
    "        handshake(prev)\n",
    "    elif index == \"Ok\":\n",
    "        s_time = 300\n",
    "        Arm.Arm_serial_servo_write(4, 10, s_time)\n",
    "        time.sleep(s_time/1000)\n",
    "        Arm.Arm_serial_servo_write(4, 0, s_time)\n",
    "        time.sleep(s_time/1000)\n",
    "        Arm.Arm_serial_servo_write(4, 10, s_time)\n",
    "        time.sleep(s_time/1000)\n",
    "        Arm.Arm_serial_servo_write(4, 0, s_time)\n",
    "        time.sleep(s_time/1000)\n",
    "    elif index == \"Seven\":\n",
    "        time.sleep(2)\n",
    "        Arm.Arm_serial_servo_write6_array(look_at, 1000)\n",
    "        time.sleep(1)\n",
    "        \n",
    "\n",
    "    global g_state_arm\n",
    "    g_state_arm = 0\n",
    "    "
   ]
  },
  {
   "cell_type": "code",
   "execution_count": 24,
   "metadata": {},
   "outputs": [],
   "source": [
    "arm_move_6(look_at, 1000)\n",
    "time.sleep(1)"
   ]
  },
  {
   "cell_type": "code",
   "execution_count": 25,
   "metadata": {},
   "outputs": [],
   "source": [
    "def start_move_arm(index):\n",
    "    global g_state_arm\n",
    "    if g_state_arm == 0:\n",
    "        closeTid = threading.Thread(target=ctrl_arm_move, args=[index])\n",
    "        closeTid.setDaemon(True)\n",
    "        closeTid.start()\n",
    "        g_state_arm = 1"
   ]
  },
  {
   "cell_type": "markdown",
   "metadata": {},
   "source": [
    "# Main process"
   ]
  },
  {
   "cell_type": "code",
   "execution_count": null,
   "metadata": {},
   "outputs": [
    {
     "name": "stdout",
     "output_type": "stream",
     "text": [
      "nothing\n",
      "nothing\n",
      "nothing\n",
      "nothing\n",
      " Program closed! \n",
      "nothing\n",
      " Program closed! \n",
      "nothing\n",
      "nothing\n",
      "nothing\n",
      "nothing\n",
      " Program closed! \n",
      "nothing\n",
      "nothing\n",
      "nothing\n",
      "nothing\n"
     ]
    }
   ],
   "source": [
    "try:\n",
    "    s_time = 300\n",
    "    Arm.Arm_serial_servo_write(4, 10, s_time)\n",
    "    time.sleep(s_time/1000)\n",
    "    Arm.Arm_serial_servo_write(4, 0, s_time)\n",
    "    time.sleep(s_time/1000)\n",
    "    Arm.Arm_serial_servo_write(4, 10, s_time)\n",
    "    time.sleep(s_time/1000)\n",
    "    Arm.Arm_serial_servo_write(4, 0, s_time)\n",
    "    time.sleep(s_time/1000)\n",
    "\n",
    "    while True:\n",
    "        # Get image\n",
    "        ret, frame = g_camera.read()\n",
    "\n",
    "        # Recognize gesture\n",
    "        res = \"Handshake\"\n",
    "        # img = cv2ImgAddText(frame, res, 250, 30, (0, 255, 0), 30)\n",
    "\n",
    "        # Move arm to Absolute p_handshake_1\n",
    "        # TODO: Make this move to hand once object identified\n",
    "        arm_move_6([90, 95, 15, 56, 90, 70], 1500)\n",
    "        time.sleep(1)\n",
    "        start_move_arm(\"Handshake\")\n",
    "        #start_move_arm(\"Ok\")\n",
    "        #start_move_arm(\"Ok\")\n",
    "        #start_move_arm(\"Seven\")\n",
    "\n",
    "        # image_widget.value = bgr8_to_jpeg(img)\n",
    "        \n",
    "except KeyboardInterrupt:\n",
    "    print(\" Program closed! \")\n",
    "    pass\n"
   ]
  },
  {
   "cell_type": "code",
   "execution_count": null,
   "metadata": {},
   "outputs": [],
   "source": [
    "g_camera.release()              #Release camera object"
   ]
  }
 ],
 "metadata": {
  "kernelspec": {
   "display_name": "Python 3",
   "language": "python",
   "name": "python3"
  },
  "language_info": {
   "codemirror_mode": {
    "name": "ipython",
    "version": 3
   },
   "file_extension": ".py",
   "mimetype": "text/x-python",
   "name": "python",
   "nbconvert_exporter": "python",
   "pygments_lexer": "ipython3",
   "version": "3.6.9"
  }
 },
 "nbformat": 4,
 "nbformat_minor": 4
}
